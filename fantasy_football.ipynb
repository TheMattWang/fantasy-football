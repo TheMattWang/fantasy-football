{
  "nbformat": 4,
  "nbformat_minor": 0,
  "metadata": {
    "colab": {
      "provenance": []
    },
    "kernelspec": {
      "name": "python3",
      "display_name": "Python 3"
    },
    "language_info": {
      "name": "python"
    }
  },
  "cells": [
    {
      "cell_type": "markdown",
      "source": [
        "## Installing Packages ##"
      ],
      "metadata": {
        "id": "5_yP_m-MW0yc"
      }
    },
    {
      "cell_type": "code",
      "source": [
        "!pip install nfl_data_py"
      ],
      "metadata": {
        "colab": {
          "base_uri": "https://localhost:8080/",
          "height": 635
        },
        "id": "cx8qa9xHWrRD",
        "outputId": "4b62bcec-3dc1-4d79-82b7-dfc9ab0e6cae"
      },
      "execution_count": 36,
      "outputs": [
        {
          "output_type": "stream",
          "name": "stdout",
          "text": [
            "Requirement already satisfied: nfl_data_py in /usr/local/lib/python3.12/dist-packages (0.3.3)\n",
            "Requirement already satisfied: numpy<2.0,>=1.0 in /usr/local/lib/python3.12/dist-packages (from nfl_data_py) (1.26.4)\n",
            "Collecting pandas<2.0,>=1.0 (from nfl_data_py)\n",
            "  Using cached pandas-1.5.3-cp312-cp312-linux_x86_64.whl\n",
            "Requirement already satisfied: appdirs>1 in /usr/local/lib/python3.12/dist-packages (from nfl_data_py) (1.4.4)\n",
            "Requirement already satisfied: fastparquet>0.5 in /usr/local/lib/python3.12/dist-packages (from nfl_data_py) (2024.11.0)\n",
            "Requirement already satisfied: cramjam>=2.3 in /usr/local/lib/python3.12/dist-packages (from fastparquet>0.5->nfl_data_py) (2.11.0)\n",
            "Requirement already satisfied: fsspec in /usr/local/lib/python3.12/dist-packages (from fastparquet>0.5->nfl_data_py) (2025.3.0)\n",
            "Requirement already satisfied: packaging in /usr/local/lib/python3.12/dist-packages (from fastparquet>0.5->nfl_data_py) (25.0)\n",
            "Requirement already satisfied: python-dateutil>=2.8.1 in /usr/local/lib/python3.12/dist-packages (from pandas<2.0,>=1.0->nfl_data_py) (2.9.0.post0)\n",
            "Requirement already satisfied: pytz>=2020.1 in /usr/local/lib/python3.12/dist-packages (from pandas<2.0,>=1.0->nfl_data_py) (2025.2)\n",
            "Requirement already satisfied: six>=1.5 in /usr/local/lib/python3.12/dist-packages (from python-dateutil>=2.8.1->pandas<2.0,>=1.0->nfl_data_py) (1.17.0)\n",
            "Installing collected packages: pandas\n",
            "  Attempting uninstall: pandas\n",
            "    Found existing installation: pandas 2.3.2\n",
            "    Uninstalling pandas-2.3.2:\n",
            "      Successfully uninstalled pandas-2.3.2\n",
            "\u001b[31mERROR: pip's dependency resolver does not currently take into account all the packages that are installed. This behaviour is the source of the following dependency conflicts.\n",
            "ortools 9.14.6206 requires pandas>=2.0.0, but you have pandas 1.5.3 which is incompatible.\n",
            "google-colab 1.0.0 requires pandas==2.2.2, but you have pandas 1.5.3 which is incompatible.\n",
            "xarray 2025.8.0 requires pandas>=2.2, but you have pandas 1.5.3 which is incompatible.\n",
            "cudf-cu12 25.6.0 requires pandas<2.2.4dev0,>=2.0, but you have pandas 1.5.3 which is incompatible.\n",
            "geopandas 1.1.1 requires pandas>=2.0.0, but you have pandas 1.5.3 which is incompatible.\n",
            "mizani 0.13.5 requires pandas>=2.2.0, but you have pandas 1.5.3 which is incompatible.\n",
            "dask-cudf-cu12 25.6.0 requires pandas<2.2.4dev0,>=2.0, but you have pandas 1.5.3 which is incompatible.\n",
            "plotnine 0.14.5 requires pandas>=2.2.0, but you have pandas 1.5.3 which is incompatible.\n",
            "arviz 0.22.0 requires pandas>=2.1.0, but you have pandas 1.5.3 which is incompatible.\u001b[0m\u001b[31m\n",
            "\u001b[0mSuccessfully installed pandas-1.5.3\n"
          ]
        },
        {
          "output_type": "display_data",
          "data": {
            "application/vnd.colab-display-data+json": {
              "pip_warning": {
                "packages": [
                  "pandas"
                ]
              },
              "id": "c5cb8fc355e64631b68a0cec1ec56fc8"
            }
          },
          "metadata": {}
        }
      ]
    },
    {
      "cell_type": "code",
      "source": [
        "!pip install xgboost"
      ],
      "metadata": {
        "colab": {
          "base_uri": "https://localhost:8080/"
        },
        "id": "QyZk_sBoaOfX",
        "outputId": "f8d4013f-4ba9-42d7-d37e-4ed54eddbc14"
      },
      "execution_count": 37,
      "outputs": [
        {
          "output_type": "stream",
          "name": "stdout",
          "text": [
            "Requirement already satisfied: xgboost in /usr/local/lib/python3.12/dist-packages (3.0.4)\n",
            "Requirement already satisfied: numpy in /usr/local/lib/python3.12/dist-packages (from xgboost) (1.26.4)\n",
            "Requirement already satisfied: nvidia-nccl-cu12 in /usr/local/lib/python3.12/dist-packages (from xgboost) (2.27.3)\n",
            "Requirement already satisfied: scipy in /usr/local/lib/python3.12/dist-packages (from xgboost) (1.16.1)\n"
          ]
        }
      ]
    },
    {
      "cell_type": "code",
      "source": [
        "!pip install ortools"
      ],
      "metadata": {
        "colab": {
          "base_uri": "https://localhost:8080/",
          "height": 564
        },
        "id": "tG0PGnE4aTxX",
        "outputId": "452e3e4d-b398-40eb-f66f-91eb25df7160"
      },
      "execution_count": 38,
      "outputs": [
        {
          "output_type": "stream",
          "name": "stdout",
          "text": [
            "Requirement already satisfied: ortools in /usr/local/lib/python3.12/dist-packages (9.14.6206)\n",
            "Requirement already satisfied: absl-py>=2.0.0 in /usr/local/lib/python3.12/dist-packages (from ortools) (2.3.1)\n",
            "Requirement already satisfied: numpy>=1.13.3 in /usr/local/lib/python3.12/dist-packages (from ortools) (1.26.4)\n",
            "Collecting pandas>=2.0.0 (from ortools)\n",
            "  Using cached pandas-2.3.2-cp312-cp312-manylinux_2_17_x86_64.manylinux2014_x86_64.whl.metadata (91 kB)\n",
            "Requirement already satisfied: protobuf<6.32,>=6.31.1 in /usr/local/lib/python3.12/dist-packages (from ortools) (6.31.1)\n",
            "Requirement already satisfied: typing-extensions>=4.12 in /usr/local/lib/python3.12/dist-packages (from ortools) (4.14.1)\n",
            "Requirement already satisfied: immutabledict>=3.0.0 in /usr/local/lib/python3.12/dist-packages (from ortools) (4.2.1)\n",
            "Requirement already satisfied: python-dateutil>=2.8.2 in /usr/local/lib/python3.12/dist-packages (from pandas>=2.0.0->ortools) (2.9.0.post0)\n",
            "Requirement already satisfied: pytz>=2020.1 in /usr/local/lib/python3.12/dist-packages (from pandas>=2.0.0->ortools) (2025.2)\n",
            "Requirement already satisfied: tzdata>=2022.7 in /usr/local/lib/python3.12/dist-packages (from pandas>=2.0.0->ortools) (2025.2)\n",
            "Requirement already satisfied: six>=1.5 in /usr/local/lib/python3.12/dist-packages (from python-dateutil>=2.8.2->pandas>=2.0.0->ortools) (1.17.0)\n",
            "Using cached pandas-2.3.2-cp312-cp312-manylinux_2_17_x86_64.manylinux2014_x86_64.whl (12.0 MB)\n",
            "Installing collected packages: pandas\n",
            "  Attempting uninstall: pandas\n",
            "    Found existing installation: pandas 1.5.3\n",
            "    Uninstalling pandas-1.5.3:\n",
            "      Successfully uninstalled pandas-1.5.3\n",
            "\u001b[31mERROR: pip's dependency resolver does not currently take into account all the packages that are installed. This behaviour is the source of the following dependency conflicts.\n",
            "nfl-data-py 0.3.3 requires pandas<2.0,>=1.0, but you have pandas 2.3.2 which is incompatible.\n",
            "google-colab 1.0.0 requires pandas==2.2.2, but you have pandas 2.3.2 which is incompatible.\n",
            "cudf-cu12 25.6.0 requires pandas<2.2.4dev0,>=2.0, but you have pandas 2.3.2 which is incompatible.\n",
            "dask-cudf-cu12 25.6.0 requires pandas<2.2.4dev0,>=2.0, but you have pandas 2.3.2 which is incompatible.\u001b[0m\u001b[31m\n",
            "\u001b[0mSuccessfully installed pandas-2.3.2\n"
          ]
        },
        {
          "output_type": "display_data",
          "data": {
            "application/vnd.colab-display-data+json": {
              "pip_warning": {
                "packages": [
                  "pandas"
                ]
              },
              "id": "80ed5899d0ba477b8b8f3b1b41991227"
            }
          },
          "metadata": {}
        }
      ]
    },
    {
      "cell_type": "code",
      "source": [
        "!pip install scikit-learn"
      ],
      "metadata": {
        "colab": {
          "base_uri": "https://localhost:8080/"
        },
        "id": "tXi_ho-zaWct",
        "outputId": "89feeb9d-d1dc-4e9d-f48e-ffa7d07e9c02"
      },
      "execution_count": 39,
      "outputs": [
        {
          "output_type": "stream",
          "name": "stdout",
          "text": [
            "Requirement already satisfied: scikit-learn in /usr/local/lib/python3.12/dist-packages (1.6.1)\n",
            "Requirement already satisfied: numpy>=1.19.5 in /usr/local/lib/python3.12/dist-packages (from scikit-learn) (1.26.4)\n",
            "Requirement already satisfied: scipy>=1.6.0 in /usr/local/lib/python3.12/dist-packages (from scikit-learn) (1.16.1)\n",
            "Requirement already satisfied: joblib>=1.2.0 in /usr/local/lib/python3.12/dist-packages (from scikit-learn) (1.5.1)\n",
            "Requirement already satisfied: threadpoolctl>=3.1.0 in /usr/local/lib/python3.12/dist-packages (from scikit-learn) (3.6.0)\n"
          ]
        }
      ]
    },
    {
      "cell_type": "code",
      "source": [
        "!pip install pandas"
      ],
      "metadata": {
        "colab": {
          "base_uri": "https://localhost:8080/"
        },
        "id": "grdj16U2aaGC",
        "outputId": "4f8d1076-b848-4968-df54-ff7593e418c1"
      },
      "execution_count": 40,
      "outputs": [
        {
          "output_type": "stream",
          "name": "stdout",
          "text": [
            "Requirement already satisfied: pandas in /usr/local/lib/python3.12/dist-packages (2.3.2)\n",
            "Requirement already satisfied: numpy>=1.26.0 in /usr/local/lib/python3.12/dist-packages (from pandas) (1.26.4)\n",
            "Requirement already satisfied: python-dateutil>=2.8.2 in /usr/local/lib/python3.12/dist-packages (from pandas) (2.9.0.post0)\n",
            "Requirement already satisfied: pytz>=2020.1 in /usr/local/lib/python3.12/dist-packages (from pandas) (2025.2)\n",
            "Requirement already satisfied: tzdata>=2022.7 in /usr/local/lib/python3.12/dist-packages (from pandas) (2025.2)\n",
            "Requirement already satisfied: six>=1.5 in /usr/local/lib/python3.12/dist-packages (from python-dateutil>=2.8.2->pandas) (1.17.0)\n"
          ]
        }
      ]
    },
    {
      "cell_type": "code",
      "source": [
        "!pip -q install rapidfuzz\n"
      ],
      "metadata": {
        "colab": {
          "base_uri": "https://localhost:8080/"
        },
        "id": "L3FX9ARp1Xh3",
        "outputId": "ee0538ef-ccdf-4e08-fb3b-64365bdf9815"
      },
      "execution_count": 59,
      "outputs": [
        {
          "output_type": "stream",
          "name": "stdout",
          "text": [
            "\u001b[?25l   \u001b[90m━━━━━━━━━━━━━━━━━━━━━━━━━━━━━━━━━━━━━━━━\u001b[0m \u001b[32m0.0/3.1 MB\u001b[0m \u001b[31m?\u001b[0m eta \u001b[36m-:--:--\u001b[0m\r\u001b[2K   \u001b[91m━━━\u001b[0m\u001b[91m╸\u001b[0m\u001b[90m━━━━━━━━━━━━━━━━━━━━━━━━━━━━━━━━━━━━\u001b[0m \u001b[32m0.3/3.1 MB\u001b[0m \u001b[31m8.0 MB/s\u001b[0m eta \u001b[36m0:00:01\u001b[0m\r\u001b[2K   \u001b[91m━━━━━━━━━━━━━━━━━━━━━━━━━\u001b[0m\u001b[91m╸\u001b[0m\u001b[90m━━━━━━━━━━━━━━\u001b[0m \u001b[32m2.0/3.1 MB\u001b[0m \u001b[31m27.6 MB/s\u001b[0m eta \u001b[36m0:00:01\u001b[0m\r\u001b[2K   \u001b[91m━━━━━━━━━━━━━━━━━━━━━━━━━━━━━━━━━━━━\u001b[0m\u001b[91m╸\u001b[0m\u001b[90m━━━\u001b[0m \u001b[32m2.8/3.1 MB\u001b[0m \u001b[31m33.4 MB/s\u001b[0m eta \u001b[36m0:00:01\u001b[0m\r\u001b[2K   \u001b[90m━━━━━━━━━━━━━━━━━━━━━━━━━━━━━━━━━━━━━━━━\u001b[0m \u001b[32m3.1/3.1 MB\u001b[0m \u001b[31m21.1 MB/s\u001b[0m eta \u001b[36m0:00:00\u001b[0m\n",
            "\u001b[?25h"
          ]
        }
      ]
    },
    {
      "cell_type": "markdown",
      "source": [
        "Packages"
      ],
      "metadata": {
        "id": "EjWOLRASW7a5"
      }
    },
    {
      "cell_type": "code",
      "source": [
        "import pandas as pd, numpy as np\n",
        "from nfl_data_py import import_weekly_data, import_pbp_data,import_schedules\n",
        "from sklearn.linear_model import RidgeCV\n",
        "from sklearn.preprocessing import StandardScaler\n",
        "from sklearn.pipeline import Pipeline\n",
        "import xgboost as xgb\n",
        "import re"
      ],
      "metadata": {
        "id": "AIcPLfAcW7M2"
      },
      "execution_count": 41,
      "outputs": []
    },
    {
      "cell_type": "markdown",
      "source": [
        "League Object"
      ],
      "metadata": {
        "id": "ZDK0xitPYG27"
      }
    },
    {
      "cell_type": "code",
      "source": [
        "LEAGUE = {\n",
        "    \"teams\": 12,\n",
        "    \"roster\": {\"QB\":1, \"RB\":2, \"WR\":2, \"TE\":1, \"WRT\":1, \"DEF\":1, \"K\":1, \"BENCH\":6},\n",
        "    \"ir_slots\": 2,\n",
        "    \"scoring\": {\n",
        "        # Passing\n",
        "        \"pass_yd\": 0.04,   # 1 pt per 25 yards\n",
        "        \"pass_td\": 4,\n",
        "        \"int\": -1,\n",
        "\n",
        "        # Rushing\n",
        "        \"rush_yd\": 0.1,    # 1 pt per 10 yards\n",
        "        \"rush_td\": 6,\n",
        "\n",
        "        # Receiving\n",
        "        \"rec_yd\": 0.1,     # 1 pt per 10 yards\n",
        "        \"rec_td\": 6,\n",
        "        \"rec\": 0.5,        # half-PPR (adjust if full/none)\n",
        "\n",
        "        # Kicker (K)\n",
        "        \"fgm_0_39\": 3,     # made FG < 40 yards\n",
        "        \"fgm_40_49\": 4,\n",
        "        \"fgm_50_plus\": 5,\n",
        "        \"fg_miss\": -1,     # missed FG (sometimes only for 0–39 yds, check your league)\n",
        "        \"pat_made\": 1,\n",
        "        \"pat_miss\": -1,\n",
        "\n",
        "        # Defense / Special Teams (DEF)\n",
        "        \"def_td\": 6,       # DEF/ST TD (pick-six, punt return, etc.)\n",
        "        \"def_int\": 2,      # interception\n",
        "        \"def_fum_rec\": 2,  # fumble recovery\n",
        "        \"def_sack\": 1,\n",
        "        \"def_safety\": 2,\n",
        "        \"def_block\": 2,    # blocked kick\n",
        "        \"def_ret_td\": 6,   # kick/punt return TD (sometimes same as def_td)\n",
        "\n",
        "        \"pa_0\": 10,        # shutout\n",
        "        \"pa_1_6\": 7,\n",
        "        \"pa_7_13\": 4,\n",
        "        \"pa_14_20\": 1,\n",
        "        \"pa_21_27\": 0,\n",
        "        \"pa_28_34\": -1,\n",
        "        \"pa_35_plus\": -4\n",
        "    }\n",
        "}\n",
        "\n",
        "\n",
        "FLEX_RULES = {\n",
        "    \"WRT\": {\"WR\",\"RB\",\"TE\"},          # Yahoo W/R/T flex\n",
        "}"
      ],
      "metadata": {
        "id": "heADMDSiW2xf"
      },
      "execution_count": 42,
      "outputs": []
    },
    {
      "cell_type": "markdown",
      "source": [
        "## Data Cleaning\n"
      ],
      "metadata": {
        "id": "8Zi2DqOsvaO7"
      }
    },
    {
      "cell_type": "code",
      "source": [
        "adp = pd.read_csv(\"/content/drive/MyDrive/Colab Notebooks/FantasyPros_2025_Overall_ADP_Rankings.csv\")\n",
        "# Ensure it has at least: player_name, position, adp (float)\n",
        "print(\"ADP Head\",adp.columns.values.tolist())\n",
        "print(\"ADP\",adp.head(1))"
      ],
      "metadata": {
        "colab": {
          "base_uri": "https://localhost:8080/"
        },
        "id": "UZ-OMuxps59k",
        "outputId": "89de264b-8124-441d-92dc-089b2b9e99fa"
      },
      "execution_count": 43,
      "outputs": [
        {
          "output_type": "stream",
          "name": "stdout",
          "text": [
            "ADP Head ['Rank', 'Player', 'Team', 'Bye', 'POS', 'Yahoo', 'Sleeper', 'RTSports', 'AVG', 'Real-Time (?)']\n",
            "ADP    Rank         Player Team   Bye  POS  Yahoo  Sleeper  RTSports  AVG  \\\n",
            "0   1.0  Ja'Marr Chase  CIN  10.0  WR1    1.0      1.0       1.0  1.0   \n",
            "\n",
            "  Real-Time (?)  \n",
            "0             1  \n"
          ]
        }
      ]
    },
    {
      "cell_type": "code",
      "source": [
        "# Clean ADP\n",
        "adp = adp.rename(columns={\"Player\":\"player_name\",\"POS\":\"position\",\"Yahoo\":\"adp_rank\"}).copy()\n",
        "adp[\"position\"] = adp[\"position\"].astype(str).str.extract(r'([A-Z]+)')\n",
        "adp = adp[[\"player_name\",\"position\",\"adp_rank\"]].dropna(subset=[\"player_name\",\"position\"])\n",
        "adp[\"adp_rank\"] = pd.to_numeric(adp[\"adp_rank\"], errors=\"coerce\")\n",
        "\n"
      ],
      "metadata": {
        "id": "gGxeVBGHtGlh"
      },
      "execution_count": 44,
      "outputs": []
    },
    {
      "cell_type": "code",
      "source": [
        "def starting_slots(league=LEAGUE):\n",
        "    r = league[\"roster\"].copy()\n",
        "    r.pop(\"BENCH\", None)\n",
        "    return r\n",
        "\n",
        "def replacement_rank(pos, league=LEAGUE):\n",
        "    \"\"\"Direct starters + fair share from any flex slot that accepts this position.\"\"\"\n",
        "    teams = league[\"teams\"]\n",
        "    r = starting_slots(league)\n",
        "    starters = teams * r.get(pos, 0)\n",
        "    for slot, count in r.items():\n",
        "        if slot in FLEX_RULES and pos in FLEX_RULES[slot]:\n",
        "            eligible = len(FLEX_RULES[slot])\n",
        "            starters += int(round(teams * count / max(eligible, 1)))\n",
        "    return max(starters, 1)\n",
        "\n",
        "def def_pa_points(pa, s):\n",
        "    pa = 0 if pd.isna(pa) else int(pa)\n",
        "    if pa == 0:                   return s.get(\"pa_0\", 0)\n",
        "    if 1 <= pa <= 6:              return s.get(\"pa_1_6\", 0)\n",
        "    if 7 <= pa <= 13:             return s.get(\"pa_7_13\", 0)\n",
        "    if 14 <= pa <= 20:            return s.get(\"pa_14_20\", 0)\n",
        "    if 21 <= pa <= 27:            return s.get(\"pa_21_27\", 0)\n",
        "    if 28 <= pa <= 34:            return s.get(\"pa_28_34\", 0)\n",
        "    return s.get(\"pa_35_plus\", 0)\n"
      ],
      "metadata": {
        "id": "SPEet5JIuIDB"
      },
      "execution_count": 45,
      "outputs": []
    },
    {
      "cell_type": "code",
      "source": [
        "SEASONS = [2024]  # we’ll use last season as baseline; can extend to 2022–2024 for features\n",
        "\n",
        "weekly = import_weekly_data(SEASONS)\n",
        "\n",
        "# Basic fantasy points for skill players (QB/RB/WR/TE)\n",
        "s = LEAGUE[\"scoring\"]\n",
        "def fp_skill(row):\n",
        "    p = 0.0\n",
        "    p += row.get(\"passing_yards\",0)*s[\"pass_yd\"] + row.get(\"passing_tds\",0)*s[\"pass_td\"] + row.get(\"interceptions\",0)*s[\"int\"]\n",
        "    p += row.get(\"rushing_yards\",0)*s[\"rush_yd\"] + row.get(\"rushing_tds\",0)*s[\"rush_td\"]\n",
        "    p += row.get(\"receiving_yards\",0)*s[\"rec_yd\"] + row.get(\"receiving_tds\",0)*s[\"rec_td\"] + row.get(\"receptions\",0)*s[\"rec\"]\n",
        "    return p\n",
        "\n",
        "# Kickers: map typical columns if available (nfl_data_py names may differ by season)\n",
        "def fp_k(row):\n",
        "    p = 0.0\n",
        "    # These fields may be named differently; adjust if needed by inspecting weekly.columns\n",
        "    p += row.get(\"field_goals_made_0_19\",0)*s[\"fgm_0_39\"]\n",
        "    p += row.get(\"field_goals_made_20_29\",0)*s[\"fgm_0_39\"]\n",
        "    p += row.get(\"field_goals_made_30_39\",0)*s[\"fgm_0_39\"]\n",
        "    p += row.get(\"field_goals_made_40_49\",0)*s[\"fgm_40_49\"]\n",
        "    p += row.get(\"field_goals_made_50_plus\",0)*s[\"fgm_50_plus\"]\n",
        "    p += row.get(\"field_goals_missed\",0)*s[\"fg_miss\"]\n",
        "    p += row.get(\"extra_points_made\",0)*s[\"pat_made\"]\n",
        "    p += row.get(\"extra_points_missed\",0)*s[\"pat_miss\"]\n",
        "    return p"
      ],
      "metadata": {
        "colab": {
          "base_uri": "https://localhost:8080/"
        },
        "id": "V_lBWU-_uHd_",
        "outputId": "b697d2d2-545f-4671-f0a1-62e77aeb099a"
      },
      "execution_count": 46,
      "outputs": [
        {
          "output_type": "stream",
          "name": "stdout",
          "text": [
            "Downcasting floats.\n"
          ]
        }
      ]
    },
    {
      "cell_type": "code",
      "source": [
        "wk = weekly.copy()\n",
        "wk[\"fp_skill\"] = wk.apply(fp_skill, axis=1)\n",
        "wk[\"fp_k\"] = wk.apply(fp_k, axis=1)\n",
        "\n",
        "agg_players = (wk.groupby([\"season\",\"player_name\",\"position\"], as_index=False)\n",
        "                 .agg(games=(\"week\",\"nunique\"),\n",
        "                      fp_skill=(\"fp_skill\",\"sum\"),\n",
        "                      fp_k=(\"fp_k\",\"sum\")))"
      ],
      "metadata": {
        "id": "ktLEDkB_wNaB"
      },
      "execution_count": 47,
      "outputs": []
    },
    {
      "cell_type": "code",
      "source": [
        "def pick_ppg(row):\n",
        "    if row[\"position\"]==\"K\":   pts = row[\"fp_k\"]\n",
        "    else:                      pts = row[\"fp_skill\"]\n",
        "    return pts / max(row[\"games\"], 1)\n",
        "\n",
        "agg_players[\"ppg\"] = agg_players.apply(pick_ppg, axis=1)\n"
      ],
      "metadata": {
        "id": "LlUYMxQFwQmd"
      },
      "execution_count": 48,
      "outputs": []
    },
    {
      "cell_type": "code",
      "source": [
        "import re, numpy as np, pandas as pd\n",
        "from rapidfuzz import fuzz, process\n",
        "\n",
        "# ---------- helpers ----------\n",
        "SUFFIXES = (\" jr\",\" sr\",\" ii\",\" iii\",\" iv\",\" v\")\n",
        "def norm_name(s: str) -> str:\n",
        "    s = str(s).lower()\n",
        "    # strip D/ST words so \"Buffalo Bills D/ST\" -> \"buffalo bills\"\n",
        "    s = re.sub(r\"\\b(d/?st|dst|defense|def|special teams)\\b\", \"\", s)\n",
        "    s = re.sub(r\"[^a-z\\s]\", \"\", s)\n",
        "    for suf in SUFFIXES:\n",
        "        s = s.replace(suf, \"\")\n",
        "    s = re.sub(r\"\\s+\", \" \", s).strip()\n",
        "    return s\n",
        "\n",
        "# Yahoo defensive labels to keep or drop\n",
        "IDP_POS = {\"D\",\"DL\",\"DB\",\"LB\",\"DT\",\"DE\",\"CB\",\"S\"}\n",
        "DEF_ALIASES = {\n",
        "  \"DST\":\"DEF\",\"D/ST\":\"DEF\",\"DEFENSE\":\"DEF\",\n",
        "  \"DEFENSE/SPECIAL TEAMS\":\"DEF\",\"DEFENSE SPECIAL TEAMS\":\"DEF\",\"ST\":\"DEF\"\n",
        "}\n",
        "# team abbr -> full name for DEF\n",
        "TEAM_ABBR_TO_NAME = {\n",
        "    \"ARI\":\"arizona cardinals\",\"ATL\":\"atlanta falcons\",\"BAL\":\"baltimore ravens\",\"BUF\":\"buffalo bills\",\n",
        "    \"CAR\":\"carolina panthers\",\"CHI\":\"chicago bears\",\"CIN\":\"cincinnati bengals\",\"CLE\":\"cleveland browns\",\n",
        "    \"DAL\":\"dallas cowboys\",\"DEN\":\"denver broncos\",\"DET\":\"detroit lions\",\"GB\":\"green bay packers\",\n",
        "    \"HOU\":\"houston texans\",\"IND\":\"indianapolis colts\",\"JAX\":\"jacksonville jaguars\",\"KC\":\"kansas city chiefs\",\n",
        "    \"LV\":\"las vegas raiders\",\"LAC\":\"los angeles chargers\",\"LAR\":\"los angeles rams\",\"MIA\":\"miami dolphins\",\n",
        "    \"MIN\":\"minnesota vikings\",\"NE\":\"new england patriots\",\"NO\":\"new orleans saints\",\"NYG\":\"new york giants\",\n",
        "    \"NYJ\":\"new york jets\",\"PHI\":\"philadelphia eagles\",\"PIT\":\"pittsburgh steelers\",\"SEA\":\"seattle seahawks\",\n",
        "    \"SF\":\"san francisco 49ers\",\"TB\":\"tampa bay buccaneers\",\"TEN\":\"tennessee titans\",\"WAS\":\"washington commanders\"\n",
        "}\n",
        "\n",
        "# ---------- 1) Projections side: normalize positions; map DEF team codes to names ----------\n",
        "# Expect: projections has [\"player_name\",\"position\",\"proj_ppg_2025\"]\n",
        "proj_keys = projections.copy()\n",
        "proj_keys[\"position\"] = proj_keys[\"position\"].astype(str).str.upper().str.extract(r\"([A-Z/]+)\")\n",
        "proj_keys[\"position\"] = proj_keys[\"position\"].replace(DEF_ALIASES)\n",
        "\n",
        "# drop any IDP rows if they slipped in\n",
        "proj_keys = proj_keys[~proj_keys[\"position\"].isin(IDP_POS)]\n",
        "\n",
        "# map DEF team abbreviations (BUF, SF, etc.) to full names for matching with ADP D/ST rows\n",
        "is_def = proj_keys[\"position\"].eq(\"DEF\")\n",
        "proj_keys.loc[is_def, \"player_name\"] = (\n",
        "    proj_keys.loc[is_def, \"player_name\"].map(TEAM_ABBR_TO_NAME)\n",
        "    .fillna(proj_keys.loc[is_def, \"player_name\"])\n",
        ")\n",
        "\n",
        "# build name_key\n",
        "proj_keys[\"name_key\"] = proj_keys[\"player_name\"].apply(norm_name)\n",
        "\n",
        "# ---------- 2) ADP side: standardize columns; collapse to DEF; drop IDP ----------\n",
        "# If your ADP was already cleaned, start from that; else standardize here:\n",
        "adp_std = adp.copy()\n",
        "if \"Player\" in adp_std.columns: adp_std = adp_std.rename(columns={\"Player\":\"player_name\"})\n",
        "if \"POS\" in adp_std.columns:    adp_std = adp_std.rename(columns={\"POS\":\"position\"})\n",
        "if \"Yahoo\" in adp_std.columns:  adp_std = adp_std.rename(columns={\"Yahoo\":\"adp_rank\"})\n",
        "\n",
        "adp_std = adp_std[[\"player_name\",\"position\",\"adp_rank\"]].dropna(subset=[\"player_name\",\"position\"])\n",
        "adp_std[\"position\"] = adp_std[\"position\"].astype(str).str.upper().str.extract(r\"([A-Z/]+)\")\n",
        "adp_std[\"position\"] = adp_std[\"position\"].replace(DEF_ALIASES)\n",
        "\n",
        "# keep only positions we actually draft in this league\n",
        "KEEP_POS = {\"QB\",\"RB\",\"WR\",\"TE\",\"K\",\"DEF\"}\n",
        "adp_std = adp_std[adp_std[\"position\"].isin(KEEP_POS)]\n",
        "adp_std[\"adp_rank\"] = pd.to_numeric(adp_std[\"adp_rank\"], errors=\"coerce\")\n",
        "adp_std[\"name_key\"] = adp_std[\"player_name\"].apply(norm_name)\n",
        "\n",
        "# if duplicates (same name_key+position) exist, keep the best (lowest ADP rank)\n",
        "adp_std = (adp_std.sort_values(\"adp_rank\", ascending=True)\n",
        "                   .drop_duplicates(subset=[\"name_key\",\"position\"], keep=\"first\"))\n",
        "\n",
        "# ---------- 3) Exact merge first ----------\n",
        "proj_with_adp = proj_keys.merge(\n",
        "    adp_std[[\"name_key\",\"position\",\"adp_rank\"]],\n",
        "    on=[\"name_key\",\"position\"], how=\"left\"\n",
        ")\n",
        "\n",
        "print(\"Exact match rate:\", f\"{proj_with_adp['adp_rank'].notna().mean():.1%}\")\n",
        "\n",
        "# ---------- 4) Fuzzy fill ONLY remaining NaNs (position-aware) ----------\n",
        "missing_idx = proj_with_adp.index[proj_with_adp[\"adp_rank\"].isna()].tolist()\n",
        "if missing_idx:\n",
        "    adp_by_pos = {p: df.reset_index(drop=True) for p, df in adp_std.groupby(\"position\", as_index=False)}\n",
        "\n",
        "    def composite_score(q, cand):\n",
        "        return max(fuzz.WRatio(q, cand), fuzz.token_sort_ratio(q, cand), fuzz.partial_ratio(q, cand))\n",
        "\n",
        "    for i in missing_idx:\n",
        "        pos = proj_with_adp.at[i, \"position\"]\n",
        "        qname = proj_with_adp.at[i, \"player_name\"]\n",
        "        q = norm_name(qname)\n",
        "        cand_df = adp_by_pos.get(pos)\n",
        "        if cand_df is None or cand_df.empty:\n",
        "            continue\n",
        "        names = cand_df[\"player_name\"].tolist()\n",
        "        k = min(50, len(names))\n",
        "        cands = process.extract(q, names, scorer=fuzz.WRatio, limit=k)\n",
        "\n",
        "        best_score, best_rank = 0, np.nan\n",
        "        for cand_name, wr, idx in cands:\n",
        "            score = composite_score(q, norm_name(cand_name))\n",
        "            if score >= 88 or score >= 70:\n",
        "                rank = cand_df.at[idx, \"adp_rank\"]\n",
        "                if pd.isna(rank):\n",
        "                    continue\n",
        "                if (score > best_score) or (score == best_score and rank < best_rank):\n",
        "                    best_score, best_rank = score, rank\n",
        "\n",
        "        # soft fallback: accept top candidate if close\n",
        "        if pd.isna(best_rank) and cands and cands[0][1] >= 62:\n",
        "            best_rank = cand_df.at[cands[0][2], \"adp_rank\"]\n",
        "\n",
        "        proj_with_adp.at[i, \"adp_rank\"] = best_rank\n",
        "\n",
        "print(\"Post-fuzzy match rate:\", f\"{proj_with_adp['adp_rank'].notna().mean():.1%}\")\n",
        "\n",
        "# ---------- 5) Build VORP board ----------\n",
        "board_core = vorp_table(\n",
        "    proj_with_adp.rename(columns={\"player_name\":\"player_name\"})[[\"player_name\",\"position\",\"proj_ppg_2025\"]],\n",
        "    proj_col=\"proj_ppg_2025\"\n",
        ")\n",
        "\n",
        "right_df = (proj_with_adp[[\"player_name\",\"position\",\"adp_rank\"]]\n",
        "            .drop_duplicates(subset=[\"player_name\",\"position\"], keep=\"first\"))\n",
        "\n",
        "board = (board_core.merge(right_df, on=[\"player_name\",\"position\"], how=\"left\")\n",
        "                    .sort_values([\"VORP\",\"proj_ppg_2025\",\"adp_rank\"], ascending=[False, False, True])\n",
        "                    .reset_index(drop=True))\n",
        "\n",
        "print(board.head(12)[[\"player_name\",\"position\",\"proj_ppg_2025\",\"VORP\",\"adp_rank\"]])\n"
      ],
      "metadata": {
        "colab": {
          "base_uri": "https://localhost:8080/"
        },
        "id": "Ttj-7H9m1ppv",
        "outputId": "f6f19b91-5497-41d8-de44-370374464c18"
      },
      "execution_count": 68,
      "outputs": [
        {
          "output_type": "stream",
          "name": "stdout",
          "text": [
            "Exact match rate: 3.6%\n",
            "Post-fuzzy match rate: 43.1%\n",
            "   player_name position  proj_ppg_2025       VORP  adp_rank\n",
            "0   B.Robinson       RB      23.433333  12.783333       2.0\n",
            "1    S.Barkley       RB      21.435000  10.785000       3.0\n",
            "2      J.Gibbs       RB      20.188889   9.538889       4.0\n",
            "3      D.Henry       RB      19.678947   9.028947       7.0\n",
            "4      J.Chase       WR      19.970588   8.470588       1.0\n",
            "5     J.Taylor       RB      17.364286   6.714286      17.0\n",
            "6    L.Jackson       QB      25.607368   6.616702      21.0\n",
            "7       R.Rice       WR      17.633333   6.133333      64.0\n",
            "8     J.Jacobs       RB      16.705556   6.055556      16.0\n",
            "9     A.Kamara       RB      16.521429   5.871429      45.0\n",
            "10    G.Kittle       TE      13.173333   5.714510      30.0\n",
            "11     J.Mixon       RB      16.118750   5.468750      74.0\n"
          ]
        }
      ]
    },
    {
      "cell_type": "code",
      "source": [
        "# Check which DEF rows in projections are still missing ADP\n",
        "def_missing = proj_with_adp[\n",
        "    (proj_with_adp[\"position\"]==\"DEF\") & (proj_with_adp[\"adp_rank\"].isna())\n",
        "][[\"player_name\",\"name_key\"]]\n",
        "\n",
        "print(f\"Total DEF in projections: {sum(proj_with_adp['position']=='DEF')}\")\n",
        "print(f\"Missing ADP for DEF: {len(def_missing)}\\n\")\n",
        "\n",
        "if not def_missing.empty:\n",
        "    print(\"Examples of missing DEF (projection side):\")\n",
        "    print(def_missing.head(15))\n",
        "\n",
        "    # Also show what ADP has for DEF\n",
        "    adp_defs = adp_std[adp_std[\"position\"]==\"DEF\"][[\"player_name\",\"name_key\",\"adp_rank\"]]\n",
        "    print(\"\\nExamples of DEF from ADP:\")\n",
        "    print(adp_defs.head(15))\n",
        "\n",
        "    # Compare sets for overlap\n",
        "    proj_set = set(def_missing[\"name_key\"])\n",
        "    adp_set  = set(adp_defs[\"name_key\"])\n",
        "    print(\"\\nProjection DEF keys not in ADP:\", sorted(proj_set - adp_set)[:20])\n",
        "    print(\"ADP DEF keys not in projections:\", sorted(adp_set - proj_set)[:20])\n"
      ],
      "metadata": {
        "colab": {
          "base_uri": "https://localhost:8080/"
        },
        "id": "HoJrMAnF3noy",
        "outputId": "50107bc5-033a-4243-e118-0a3ce859d729"
      },
      "execution_count": 69,
      "outputs": [
        {
          "output_type": "stream",
          "name": "stdout",
          "text": [
            "Total DEF in projections: 32\n",
            "Missing ADP for DEF: 7\n",
            "\n",
            "Examples of missing DEF (projection side):\n",
            "              player_name              name_key\n",
            "600       atlanta falcons       atlanta falcons\n",
            "603     carolina panthers     carolina panthers\n",
            "612    indianapolis colts    indianapolis colts\n",
            "613  jacksonville jaguars  jacksonville jaguars\n",
            "617     las vegas raiders       lasegas raiders\n",
            "621    new orleans saints    new orleans saints\n",
            "629      tennessee titans      tennessee titans\n",
            "\n",
            "Examples of DEF from ADP:\n",
            "              player_name              name_key  adp_rank\n",
            "126   Philadelphia Eagles   philadelphia eagles      82.0\n",
            "124        Denver Broncos        denver broncos      84.0\n",
            "149      Baltimore Ravens      baltimore ravens      97.0\n",
            "138   Pittsburgh Steelers   pittsburgh steelers     101.0\n",
            "154     Minnesota Vikings       minnesotaikings     127.0\n",
            "177    Kansas City Chiefs    kansas city chiefs     131.0\n",
            "183         Detroit Lions         detroit lions     147.0\n",
            "170        Houston Texans        houston texans     148.0\n",
            "196         Buffalo Bills         buffalo bills     185.0\n",
            "240         Chicago Bears         chicago bears     189.0\n",
            "210  Tampa Bay Buccaneers  tampa bay buccaneers     195.0\n",
            "228        Miami Dolphins        miami dolphins     197.0\n",
            "194   San Francisco 49ers     san francisco ers     200.0\n",
            "208       New York Giants       new york giants     204.0\n",
            "234  New England Patriots  new england patriots     205.0\n",
            "\n",
            "Projection DEF keys not in ADP: ['atlanta falcons', 'carolina panthers']\n",
            "ADP DEF keys not in projections: ['arizona cardinals', 'baltimore ravens', 'buffalo bills', 'chicago bears', 'cincinnati bengals', 'cleveland browns', 'dallas cowboys', 'denver broncos', 'detroit lions', 'green bay packers', 'houston texans', 'kansas city chiefs', 'los angeles chargers', 'los angeles rams', 'miami dolphins', 'minnesotaikings', 'new england patriots', 'new york giants', 'new york jets', 'philadelphia eagles']\n"
          ]
        }
      ]
    },
    {
      "cell_type": "code",
      "source": [
        "# Known typos in ADP\n",
        "adp_fix_map = {\n",
        "    \"minnesotaikings\": \"minnesota vikings\",\n",
        "    \"san francisco ers\": \"san francisco 49ers\"\n",
        "}\n",
        "adp_std[\"name_key\"] = adp_std[\"name_key\"].replace(adp_fix_map)\n",
        "\n",
        "# Add missing defenses with NaN ADP (they'll drop to bottom of board)\n",
        "all_teams = [\n",
        "    \"arizona cardinals\",\"atlanta falcons\",\"baltimore ravens\",\"buffalo bills\",\"carolina panthers\",\n",
        "    \"chicago bears\",\"cincinnati bengals\",\"cleveland browns\",\"dallas cowboys\",\"denver broncos\",\n",
        "    \"detroit lions\",\"green bay packers\",\"houston texans\",\"indianapolis colts\",\"jacksonville jaguars\",\n",
        "    \"kansas city chiefs\",\"las vegas raiders\",\"los angeles chargers\",\"los angeles rams\",\"miami dolphins\",\n",
        "    \"minnesota vikings\",\"new england patriots\",\"new orleans saints\",\"new york giants\",\"new york jets\",\n",
        "    \"philadelphia eagles\",\"pittsburgh steelers\",\"san francisco 49ers\",\"seattle seahawks\",\n",
        "    \"tampa bay buccaneers\",\"tennessee titans\",\"washington commanders\"\n",
        "]\n",
        "\n",
        "# Find which team DEF are missing in ADP\n",
        "existing_defs = set(adp_std.loc[adp_std[\"position\"]==\"DEF\",\"name_key\"])\n",
        "missing_defs = [t for t in all_teams if norm_name(t) not in existing_defs]\n",
        "\n",
        "# Add them with NaN ADP\n",
        "rows = []\n",
        "for team in missing_defs:\n",
        "    rows.append({\"player_name\": team+\" D/ST\",\n",
        "                 \"position\":\"DEF\",\n",
        "                 \"adp_rank\": np.nan,\n",
        "                 \"name_key\": norm_name(team)})\n",
        "adp_std = pd.concat([adp_std, pd.DataFrame(rows)], ignore_index=True)\n"
      ],
      "metadata": {
        "id": "1W-j5iif5JoO"
      },
      "execution_count": 71,
      "outputs": []
    },
    {
      "cell_type": "code",
      "source": [
        "# Print all 32 defenses with ADP\n",
        "defs_board = adp_std[adp_std[\"position\"]==\"DEF\"].copy()\n",
        "\n",
        "# Normalize for consistency\n",
        "defs_board = defs_board[[\"player_name\",\"adp_rank\",\"name_key\"]].drop_duplicates()\n",
        "defs_board = defs_board.sort_values(\"player_name\").reset_index(drop=True)\n",
        "\n",
        "print(\"Total defenses in ADP table:\", len(defs_board))\n",
        "print(defs_board.to_string(index=False))\n"
      ],
      "metadata": {
        "colab": {
          "base_uri": "https://localhost:8080/"
        },
        "id": "IEjwfK7m5Ygv",
        "outputId": "8029b500-83b7-4f90-ed2c-e7adc3edaa83"
      },
      "execution_count": 72,
      "outputs": [
        {
          "output_type": "stream",
          "name": "stdout",
          "text": [
            "Total defenses in ADP table: 36\n",
            "             player_name  adp_rank              name_key\n",
            "       Arizona Cardinals     222.0     arizona cardinals\n",
            "        Baltimore Ravens      97.0      baltimore ravens\n",
            "           Buffalo Bills     185.0         buffalo bills\n",
            "           Chicago Bears     189.0         chicago bears\n",
            "      Cincinnati Bengals     215.0    cincinnati bengals\n",
            "        Cleveland Browns     226.0      cleveland browns\n",
            "          Dallas Cowboys     207.0        dallas cowboys\n",
            "          Denver Broncos      84.0        denver broncos\n",
            "           Detroit Lions     147.0         detroit lions\n",
            "       Green Bay Packers     221.0     green bay packers\n",
            "          Houston Texans     148.0        houston texans\n",
            "      Indianapolis Colts       NaN    indianapolis colts\n",
            "    Jacksonville Jaguars       NaN  jacksonville jaguars\n",
            "      Kansas City Chiefs     131.0    kansas city chiefs\n",
            "       Las Vegas Raiders       NaN       lasegas raiders\n",
            "    Los Angeles Chargers       NaN  los angeles chargers\n",
            "        Los Angeles Rams     224.0      los angeles rams\n",
            "          Miami Dolphins     197.0        miami dolphins\n",
            "       Minnesota Vikings     127.0     minnesota vikings\n",
            "    New England Patriots     205.0  new england patriots\n",
            "      New Orleans Saints       NaN    new orleans saints\n",
            "         New York Giants     204.0       new york giants\n",
            "           New York Jets     225.0         new york jets\n",
            "     Philadelphia Eagles      82.0   philadelphia eagles\n",
            "     Pittsburgh Steelers     101.0   pittsburgh steelers\n",
            "     San Francisco 49ers     200.0   san francisco 49ers\n",
            "        Seattle Seahawks     223.0      seattle seahawks\n",
            "    Tampa Bay Buccaneers     195.0  tampa bay buccaneers\n",
            "        Tennessee Titans       NaN      tennessee titans\n",
            "   Washington Commanders     211.0 washington commanders\n",
            "    atlanta falcons D/ST       NaN       atlanta falcons\n",
            "  carolina panthers D/ST       NaN     carolina panthers\n",
            "  minnesota vikings D/ST       NaN       minnesotaikings\n",
            "  minnesota vikings D/ST       NaN     minnesota vikings\n",
            "san francisco 49ers D/ST       NaN   san francisco 49ers\n",
            "san francisco 49ers D/ST       NaN     san francisco ers\n"
          ]
        }
      ]
    },
    {
      "cell_type": "code",
      "source": [
        "board_defs = board[board[\"position\"]==\"DEF\"].copy()\n",
        "\n",
        "# Keep only useful columns\n",
        "board_defs = board_defs[[\"player_name\",\"proj_ppg_2025\",\"VORP\",\"adp_rank\"]].drop_duplicates()\n",
        "\n",
        "# Sort by ADP (lowest rank = earlier pick) with NaN at bottom\n",
        "board_defs = board_defs.sort_values(\"adp_rank\", na_position=\"last\").reset_index(drop=True)\n",
        "\n",
        "print(\"Total defenses in final board:\", len(board_defs))\n",
        "print(board_defs.to_string(index=False))\n"
      ],
      "metadata": {
        "colab": {
          "base_uri": "https://localhost:8080/"
        },
        "id": "Nf3Xky8n5knw",
        "outputId": "a46c3c2d-aa68-4db1-9a2c-0d318074b3f1"
      },
      "execution_count": 73,
      "outputs": [
        {
          "output_type": "stream",
          "name": "stdout",
          "text": [
            "Total defenses in final board: 32\n",
            "          player_name  proj_ppg_2025      VORP  adp_rank\n",
            "  philadelphia eagles       1.318622  0.684874      82.0\n",
            "                   LA       0.459600 -0.174149      82.0\n",
            "       denver broncos       1.479337  0.845588      84.0\n",
            "     baltimore ravens       0.735916  0.102167      97.0\n",
            "  pittsburgh steelers       0.854337  0.220588     101.0\n",
            "    minnesota vikings       1.146003  0.512255     127.0\n",
            "   kansas city chiefs       0.666837  0.033088     131.0\n",
            "        detroit lions       0.937670  0.303922     147.0\n",
            "       houston texans       0.814863  0.181115     148.0\n",
            "        buffalo bills       0.591837 -0.041912     185.0\n",
            "        chicago bears       0.545513 -0.088235     189.0\n",
            " tampa bay buccaneers       0.271003 -0.362745     195.0\n",
            "       miami dolphins       0.633748  0.000000     197.0\n",
            "  san francisco 49ers      -0.028016 -0.661765     200.0\n",
            "      new york giants       0.016101 -0.617647     204.0\n",
            " new england patriots       0.148454 -0.485294     205.0\n",
            "       dallas cowboys      -0.380958 -1.014706     207.0\n",
            "washington commanders       0.141837 -0.491912     211.0\n",
            "   cincinnati bengals      -0.160369 -0.794118     215.0\n",
            "    green bay packers       1.229337  0.595588     221.0\n",
            "    arizona cardinals       0.633748  0.000000     222.0\n",
            "     seattle seahawks       0.766101  0.132353     223.0\n",
            " los angeles chargers       1.271003  0.637255     224.0\n",
            "        new york jets       0.369042 -0.264706     225.0\n",
            "     cleveland browns      -0.160369 -0.794118     226.0\n",
            "   new orleans saints       0.413160 -0.220588       NaN\n",
            " jacksonville jaguars       0.236690 -0.397059       NaN\n",
            "      atlanta falcons      -0.028016 -0.661765       NaN\n",
            "    las vegas raiders      -0.116252 -0.750000       NaN\n",
            "   indianapolis colts      -0.116252 -0.750000       NaN\n",
            "     tennessee titans      -0.204487 -0.838235       NaN\n",
            "    carolina panthers      -1.130958 -1.764706       NaN\n"
          ]
        }
      ]
    },
    {
      "cell_type": "code",
      "source": [],
      "metadata": {
        "id": "2gQMKzCi6Ae4"
      },
      "execution_count": null,
      "outputs": []
    }
  ]
}